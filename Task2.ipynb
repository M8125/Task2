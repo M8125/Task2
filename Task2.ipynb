{
  "nbformat": 4,
  "nbformat_minor": 0,
  "metadata": {
    "colab": {
      "provenance": []
    },
    "kernelspec": {
      "name": "python3",
      "display_name": "Python 3"
    },
    "language_info": {
      "name": "python"
    }
  },
  "cells": [
    {
      "cell_type": "code",
      "execution_count": null,
      "metadata": {
        "colab": {
          "base_uri": "https://localhost:8080/"
        },
        "id": "8wDSmM2Q9Lt5",
        "outputId": "752dfd3f-b7f1-4faf-b7ff-2e57a4ce57ed"
      },
      "outputs": [
        {
          "output_type": "stream",
          "name": "stdout",
          "text": [
            "Enter the first number: 2\n",
            "Enter the second number: 6\n",
            "Select operation:\n",
            "1. Add\n",
            "2. Subtract\n",
            "3. Multiply\n",
            "4. Divide\n",
            "Enter choice (1/2/3/4): 3\n",
            "The result of multiplication is: 12.0\n"
          ]
        }
      ],
      "source": [
        "def calculator():\n",
        "    # Prompt user to input the first number\n",
        "    num1 = float(input(\"Enter the first number: \"))\n",
        "    # Prompt user to input the second number\n",
        "    num2 = float(input(\"Enter the second number: \"))\n",
        "    # Prompt user to choose an operation\n",
        "    print(\"Select operation:\")\n",
        "    print(\"1. Add\")\n",
        "    print(\"2. Subtract\")\n",
        "    print(\"3. Multiply\")\n",
        "    print(\"4. Divide\")\n",
        "    operation = input(\"Enter choice (1/2/3/4): \")\n",
        "    # Perform the calculation based on user input\n",
        "    if operation == '1':\n",
        "        result = num1 + num2\n",
        "        print(f\"The result of addition is: {result}\")\n",
        "    elif operation == '2':\n",
        "        result = num1 - num2\n",
        "        print(f\"The result of subtraction is: {result}\")\n",
        "    elif operation == '3':\n",
        "        result = num1 * num2\n",
        "        print(f\"The result of multiplication is: {result}\")\n",
        "    elif operation == '4':\n",
        "        if num2 != 0:\n",
        "            result = num1 / num2\n",
        "            print(f\"The result of division is: {result}\")\n",
        "        else:\n",
        "            print(\"Error: Division by zero is not allowed.\")\n",
        "    else:\n",
        "        print(\"Invalid input! Please select a valid operation.\")\n",
        "\n",
        "# Run the calculator\n",
        "calculator()"
      ]
    }
  ]
}